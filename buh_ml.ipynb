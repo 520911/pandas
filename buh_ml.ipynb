{
  "nbformat": 4,
  "nbformat_minor": 0,
  "metadata": {
    "colab": {
      "name": "buh_ml.ipynb",
      "provenance": []
    },
    "kernelspec": {
      "name": "python3",
      "display_name": "Python 3"
    },
    "language_info": {
      "name": "python"
    }
  },
  "cells": [
    {
      "cell_type": "code",
      "metadata": {
        "id": "5Ajjmah83lrd"
      },
      "source": [
        "# Импорт необходимых библиотек\n",
        "import pandas as pd\n",
        "from sklearn.linear_model import LinearRegression\n",
        "from sklearn.model_selection import train_test_split\n",
        "from sklearn.metrics import mean_squared_error"
      ],
      "execution_count": null,
      "outputs": []
    },
    {
      "cell_type": "code",
      "metadata": {
        "colab": {
          "base_uri": "https://localhost:8080/",
          "height": 206
        },
        "id": "M541Rkxe4KXE",
        "outputId": "c1195e30-c222-41a4-aeb5-f30485825b3f"
      },
      "source": [
        "df = pd.read_csv('buh_data.csv', sep=',')\n",
        "df.head()"
      ],
      "execution_count": null,
      "outputs": [
        {
          "output_type": "execute_result",
          "data": {
            "text/html": [
              "<div>\n",
              "<style scoped>\n",
              "    .dataframe tbody tr th:only-of-type {\n",
              "        vertical-align: middle;\n",
              "    }\n",
              "\n",
              "    .dataframe tbody tr th {\n",
              "        vertical-align: top;\n",
              "    }\n",
              "\n",
              "    .dataframe thead th {\n",
              "        text-align: right;\n",
              "    }\n",
              "</style>\n",
              "<table border=\"1\" class=\"dataframe\">\n",
              "  <thead>\n",
              "    <tr style=\"text-align: right;\">\n",
              "      <th></th>\n",
              "      <th>ll_month</th>\n",
              "      <th>l_month</th>\n",
              "      <th>month</th>\n",
              "      <th>n_month</th>\n",
              "    </tr>\n",
              "  </thead>\n",
              "  <tbody>\n",
              "    <tr>\n",
              "      <th>0</th>\n",
              "      <td>3000.0</td>\n",
              "      <td>3200.0</td>\n",
              "      <td>1300.0</td>\n",
              "      <td>1500.0</td>\n",
              "    </tr>\n",
              "    <tr>\n",
              "      <th>1</th>\n",
              "      <td>2200.0</td>\n",
              "      <td>7600.0</td>\n",
              "      <td>2800.0</td>\n",
              "      <td>3100.0</td>\n",
              "    </tr>\n",
              "    <tr>\n",
              "      <th>2</th>\n",
              "      <td>500.0</td>\n",
              "      <td>9400.0</td>\n",
              "      <td>5600.0</td>\n",
              "      <td>6000.0</td>\n",
              "    </tr>\n",
              "    <tr>\n",
              "      <th>3</th>\n",
              "      <td>12000.0</td>\n",
              "      <td>2800.0</td>\n",
              "      <td>700.0</td>\n",
              "      <td>800.0</td>\n",
              "    </tr>\n",
              "    <tr>\n",
              "      <th>4</th>\n",
              "      <td>4500.0</td>\n",
              "      <td>900.0</td>\n",
              "      <td>9400.0</td>\n",
              "      <td>8900.0</td>\n",
              "    </tr>\n",
              "  </tbody>\n",
              "</table>\n",
              "</div>"
            ],
            "text/plain": [
              "   ll_month  l_month   month  n_month\n",
              "0    3000.0   3200.0  1300.0   1500.0\n",
              "1    2200.0   7600.0  2800.0   3100.0\n",
              "2     500.0   9400.0  5600.0   6000.0\n",
              "3   12000.0   2800.0   700.0    800.0\n",
              "4    4500.0    900.0  9400.0   8900.0"
            ]
          },
          "metadata": {},
          "execution_count": 30
        }
      ]
    },
    {
      "cell_type": "code",
      "metadata": {
        "colab": {
          "base_uri": "https://localhost:8080/"
        },
        "id": "MoVZ6taO4Qze",
        "outputId": "15261a4b-9fbf-4217-f697-2a56d859f84a"
      },
      "source": [
        "df.info()"
      ],
      "execution_count": null,
      "outputs": [
        {
          "output_type": "stream",
          "name": "stdout",
          "text": [
            "<class 'pandas.core.frame.DataFrame'>\n",
            "RangeIndex: 10 entries, 0 to 9\n",
            "Data columns (total 4 columns):\n",
            " #   Column    Non-Null Count  Dtype  \n",
            "---  ------    --------------  -----  \n",
            " 0   ll_month  10 non-null     float64\n",
            " 1   l_month   10 non-null     float64\n",
            " 2   month     10 non-null     float64\n",
            " 3   n_month   10 non-null     float64\n",
            "dtypes: float64(4)\n",
            "memory usage: 448.0 bytes\n"
          ]
        }
      ]
    },
    {
      "cell_type": "code",
      "metadata": {
        "colab": {
          "base_uri": "https://localhost:8080/",
          "height": 300
        },
        "id": "oDLq6r514Ued",
        "outputId": "fa4c13bb-a967-433a-8a73-52bd9be6ab4e"
      },
      "source": [
        "df.describe()"
      ],
      "execution_count": null,
      "outputs": [
        {
          "output_type": "execute_result",
          "data": {
            "text/html": [
              "<div>\n",
              "<style scoped>\n",
              "    .dataframe tbody tr th:only-of-type {\n",
              "        vertical-align: middle;\n",
              "    }\n",
              "\n",
              "    .dataframe tbody tr th {\n",
              "        vertical-align: top;\n",
              "    }\n",
              "\n",
              "    .dataframe thead th {\n",
              "        text-align: right;\n",
              "    }\n",
              "</style>\n",
              "<table border=\"1\" class=\"dataframe\">\n",
              "  <thead>\n",
              "    <tr style=\"text-align: right;\">\n",
              "      <th></th>\n",
              "      <th>ll_month</th>\n",
              "      <th>l_month</th>\n",
              "      <th>month</th>\n",
              "      <th>n_month</th>\n",
              "    </tr>\n",
              "  </thead>\n",
              "  <tbody>\n",
              "    <tr>\n",
              "      <th>count</th>\n",
              "      <td>10.000000</td>\n",
              "      <td>10.000000</td>\n",
              "      <td>10.000000</td>\n",
              "      <td>10.000000</td>\n",
              "    </tr>\n",
              "    <tr>\n",
              "      <th>mean</th>\n",
              "      <td>3880.000000</td>\n",
              "      <td>5134.000000</td>\n",
              "      <td>7176.000000</td>\n",
              "      <td>6900.000000</td>\n",
              "    </tr>\n",
              "    <tr>\n",
              "      <th>std</th>\n",
              "      <td>3686.778178</td>\n",
              "      <td>3116.990001</td>\n",
              "      <td>8108.759598</td>\n",
              "      <td>7486.283754</td>\n",
              "    </tr>\n",
              "    <tr>\n",
              "      <th>min</th>\n",
              "      <td>500.000000</td>\n",
              "      <td>640.000000</td>\n",
              "      <td>600.000000</td>\n",
              "      <td>500.000000</td>\n",
              "    </tr>\n",
              "    <tr>\n",
              "      <th>25%</th>\n",
              "      <td>987.500000</td>\n",
              "      <td>2900.000000</td>\n",
              "      <td>850.000000</td>\n",
              "      <td>975.000000</td>\n",
              "    </tr>\n",
              "    <tr>\n",
              "      <th>50%</th>\n",
              "      <td>2600.000000</td>\n",
              "      <td>5690.000000</td>\n",
              "      <td>4200.000000</td>\n",
              "      <td>4550.000000</td>\n",
              "    </tr>\n",
              "    <tr>\n",
              "      <th>75%</th>\n",
              "      <td>6150.000000</td>\n",
              "      <td>7380.000000</td>\n",
              "      <td>9670.000000</td>\n",
              "      <td>9875.000000</td>\n",
              "    </tr>\n",
              "    <tr>\n",
              "      <th>max</th>\n",
              "      <td>12000.000000</td>\n",
              "      <td>9400.000000</td>\n",
              "      <td>25000.000000</td>\n",
              "      <td>23500.000000</td>\n",
              "    </tr>\n",
              "  </tbody>\n",
              "</table>\n",
              "</div>"
            ],
            "text/plain": [
              "           ll_month      l_month         month       n_month\n",
              "count     10.000000    10.000000     10.000000     10.000000\n",
              "mean    3880.000000  5134.000000   7176.000000   6900.000000\n",
              "std     3686.778178  3116.990001   8108.759598   7486.283754\n",
              "min      500.000000   640.000000    600.000000    500.000000\n",
              "25%      987.500000  2900.000000    850.000000    975.000000\n",
              "50%     2600.000000  5690.000000   4200.000000   4550.000000\n",
              "75%     6150.000000  7380.000000   9670.000000   9875.000000\n",
              "max    12000.000000  9400.000000  25000.000000  23500.000000"
            ]
          },
          "metadata": {},
          "execution_count": 33
        }
      ]
    },
    {
      "cell_type": "code",
      "metadata": {
        "colab": {
          "base_uri": "https://localhost:8080/"
        },
        "id": "v9dpYaVM4YX9",
        "outputId": "e81b056f-6fdb-4387-93de-1ae7650f1321"
      },
      "source": [
        "df.columns"
      ],
      "execution_count": null,
      "outputs": [
        {
          "output_type": "execute_result",
          "data": {
            "text/plain": [
              "Index(['ll_month', 'l_month', 'month', 'n_month'], dtype='object')"
            ]
          },
          "metadata": {},
          "execution_count": 34
        }
      ]
    },
    {
      "cell_type": "code",
      "metadata": {
        "id": "Xf6_sDuj4gAl"
      },
      "source": [
        "# Сформируем признаки и целевой столбец для предсказания его значений\n",
        "X = df[['ll_month', 'l_month', 'month']]\n",
        "y = df['n_month']"
      ],
      "execution_count": null,
      "outputs": []
    },
    {
      "cell_type": "code",
      "metadata": {
        "colab": {
          "base_uri": "https://localhost:8080/",
          "height": 363
        },
        "id": "ArfbHTK44xEM",
        "outputId": "e308e73b-7e11-4996-f0be-58dfea409b39"
      },
      "source": [
        "X"
      ],
      "execution_count": null,
      "outputs": [
        {
          "output_type": "execute_result",
          "data": {
            "text/html": [
              "<div>\n",
              "<style scoped>\n",
              "    .dataframe tbody tr th:only-of-type {\n",
              "        vertical-align: middle;\n",
              "    }\n",
              "\n",
              "    .dataframe tbody tr th {\n",
              "        vertical-align: top;\n",
              "    }\n",
              "\n",
              "    .dataframe thead th {\n",
              "        text-align: right;\n",
              "    }\n",
              "</style>\n",
              "<table border=\"1\" class=\"dataframe\">\n",
              "  <thead>\n",
              "    <tr style=\"text-align: right;\">\n",
              "      <th></th>\n",
              "      <th>ll_month</th>\n",
              "      <th>l_month</th>\n",
              "      <th>month</th>\n",
              "    </tr>\n",
              "  </thead>\n",
              "  <tbody>\n",
              "    <tr>\n",
              "      <th>0</th>\n",
              "      <td>3000.0</td>\n",
              "      <td>3200.0</td>\n",
              "      <td>1300.0</td>\n",
              "    </tr>\n",
              "    <tr>\n",
              "      <th>1</th>\n",
              "      <td>2200.0</td>\n",
              "      <td>7600.0</td>\n",
              "      <td>2800.0</td>\n",
              "    </tr>\n",
              "    <tr>\n",
              "      <th>2</th>\n",
              "      <td>500.0</td>\n",
              "      <td>9400.0</td>\n",
              "      <td>5600.0</td>\n",
              "    </tr>\n",
              "    <tr>\n",
              "      <th>3</th>\n",
              "      <td>12000.0</td>\n",
              "      <td>2800.0</td>\n",
              "      <td>700.0</td>\n",
              "    </tr>\n",
              "    <tr>\n",
              "      <th>4</th>\n",
              "      <td>4500.0</td>\n",
              "      <td>900.0</td>\n",
              "      <td>9400.0</td>\n",
              "    </tr>\n",
              "    <tr>\n",
              "      <th>5</th>\n",
              "      <td>6800.0</td>\n",
              "      <td>640.0</td>\n",
              "      <td>25000.0</td>\n",
              "    </tr>\n",
              "    <tr>\n",
              "      <th>6</th>\n",
              "      <td>1400.0</td>\n",
              "      <td>8700.0</td>\n",
              "      <td>16000.0</td>\n",
              "    </tr>\n",
              "    <tr>\n",
              "      <th>7</th>\n",
              "      <td>6700.0</td>\n",
              "      <td>6720.0</td>\n",
              "      <td>9760.0</td>\n",
              "    </tr>\n",
              "    <tr>\n",
              "      <th>8</th>\n",
              "      <td>850.0</td>\n",
              "      <td>5690.0</td>\n",
              "      <td>600.0</td>\n",
              "    </tr>\n",
              "    <tr>\n",
              "      <th>9</th>\n",
              "      <td>850.0</td>\n",
              "      <td>5690.0</td>\n",
              "      <td>600.0</td>\n",
              "    </tr>\n",
              "  </tbody>\n",
              "</table>\n",
              "</div>"
            ],
            "text/plain": [
              "   ll_month  l_month    month\n",
              "0    3000.0   3200.0   1300.0\n",
              "1    2200.0   7600.0   2800.0\n",
              "2     500.0   9400.0   5600.0\n",
              "3   12000.0   2800.0    700.0\n",
              "4    4500.0    900.0   9400.0\n",
              "5    6800.0    640.0  25000.0\n",
              "6    1400.0   8700.0  16000.0\n",
              "7    6700.0   6720.0   9760.0\n",
              "8     850.0   5690.0    600.0\n",
              "9     850.0   5690.0    600.0"
            ]
          },
          "metadata": {},
          "execution_count": 36
        }
      ]
    },
    {
      "cell_type": "code",
      "metadata": {
        "colab": {
          "base_uri": "https://localhost:8080/"
        },
        "id": "GFwW-8ku4x98",
        "outputId": "3e28cbaf-1764-4dba-974a-89b7e4cd7aca"
      },
      "source": [
        "y"
      ],
      "execution_count": null,
      "outputs": [
        {
          "output_type": "execute_result",
          "data": {
            "text/plain": [
              "0     1500.0\n",
              "1     3100.0\n",
              "2     6000.0\n",
              "3      800.0\n",
              "4     8900.0\n",
              "5    23500.0\n",
              "6    14000.0\n",
              "7    10200.0\n",
              "8      500.0\n",
              "9      500.0\n",
              "Name: n_month, dtype: float64"
            ]
          },
          "metadata": {},
          "execution_count": 37
        }
      ]
    },
    {
      "cell_type": "code",
      "metadata": {
        "id": "YK1WVVSy4ylz"
      },
      "source": [
        "# Разделим данные на тест и трейн \n",
        "X_train, X_test, y_train, y_test = train_test_split(X, y, test_size=0.2)"
      ],
      "execution_count": null,
      "outputs": []
    },
    {
      "cell_type": "code",
      "metadata": {
        "id": "MgmHHStX__oY"
      },
      "source": [
        "lr = LinearRegression()"
      ],
      "execution_count": null,
      "outputs": []
    },
    {
      "cell_type": "code",
      "metadata": {
        "colab": {
          "base_uri": "https://localhost:8080/"
        },
        "id": "0W7HHwIqAEUQ",
        "outputId": "99227dce-70ec-4eab-f0a9-fc37271b8c49"
      },
      "source": [
        "lr.fit(X_train, y_train)"
      ],
      "execution_count": null,
      "outputs": [
        {
          "output_type": "execute_result",
          "data": {
            "text/plain": [
              "LinearRegression(copy_X=True, fit_intercept=True, n_jobs=None, normalize=False)"
            ]
          },
          "metadata": {},
          "execution_count": 62
        }
      ]
    },
    {
      "cell_type": "code",
      "metadata": {
        "colab": {
          "base_uri": "https://localhost:8080/"
        },
        "id": "TcVv2K2lAHxf",
        "outputId": "2fefebd1-23d7-4107-916b-3fd75d5412e4"
      },
      "source": [
        "lr.coef_"
      ],
      "execution_count": null,
      "outputs": [
        {
          "output_type": "execute_result",
          "data": {
            "text/plain": [
              "array([-0.00890229, -0.03003831,  0.91023204])"
            ]
          },
          "metadata": {},
          "execution_count": 63
        }
      ]
    },
    {
      "cell_type": "code",
      "metadata": {
        "colab": {
          "base_uri": "https://localhost:8080/"
        },
        "id": "HB33e9jXAKBI",
        "outputId": "01e811ec-689c-45f4-ef67-7d515ccd7894"
      },
      "source": [
        "lr.predict(X_test)"
      ],
      "execution_count": null,
      "outputs": [
        {
          "output_type": "execute_result",
          "data": {
            "text/plain": [
              "array([ 850.07185492, 9104.77953465])"
            ]
          },
          "metadata": {},
          "execution_count": 64
        }
      ]
    },
    {
      "cell_type": "code",
      "metadata": {
        "colab": {
          "base_uri": "https://localhost:8080/",
          "height": 112
        },
        "id": "Q62pPLMMArd1",
        "outputId": "63f56924-7017-40ae-97a5-8a5de6ecb7fc"
      },
      "source": [
        "pd.DataFrame([y_test.values, lr.predict(X_test)])"
      ],
      "execution_count": null,
      "outputs": [
        {
          "output_type": "execute_result",
          "data": {
            "text/html": [
              "<div>\n",
              "<style scoped>\n",
              "    .dataframe tbody tr th:only-of-type {\n",
              "        vertical-align: middle;\n",
              "    }\n",
              "\n",
              "    .dataframe tbody tr th {\n",
              "        vertical-align: top;\n",
              "    }\n",
              "\n",
              "    .dataframe thead th {\n",
              "        text-align: right;\n",
              "    }\n",
              "</style>\n",
              "<table border=\"1\" class=\"dataframe\">\n",
              "  <thead>\n",
              "    <tr style=\"text-align: right;\">\n",
              "      <th></th>\n",
              "      <th>0</th>\n",
              "      <th>1</th>\n",
              "    </tr>\n",
              "  </thead>\n",
              "  <tbody>\n",
              "    <tr>\n",
              "      <th>0</th>\n",
              "      <td>500.000000</td>\n",
              "      <td>10200.000000</td>\n",
              "    </tr>\n",
              "    <tr>\n",
              "      <th>1</th>\n",
              "      <td>850.071855</td>\n",
              "      <td>9104.779535</td>\n",
              "    </tr>\n",
              "  </tbody>\n",
              "</table>\n",
              "</div>"
            ],
            "text/plain": [
              "            0             1\n",
              "0  500.000000  10200.000000\n",
              "1  850.071855   9104.779535"
            ]
          },
          "metadata": {},
          "execution_count": 67
        }
      ]
    },
    {
      "cell_type": "code",
      "metadata": {
        "colab": {
          "base_uri": "https://localhost:8080/"
        },
        "id": "EII8Ey1lANMI",
        "outputId": "62d59387-9707-40d6-bf2e-a221ad469c89"
      },
      "source": [
        "mean_squared_error(y_test, lr.predict(X_test))"
      ],
      "execution_count": null,
      "outputs": [
        {
          "output_type": "execute_result",
          "data": {
            "text/plain": [
              "661029.0856598143"
            ]
          },
          "metadata": {},
          "execution_count": 65
        }
      ]
    },
    {
      "cell_type": "code",
      "metadata": {
        "colab": {
          "base_uri": "https://localhost:8080/"
        },
        "id": "BYXAcgQuAbOI",
        "outputId": "8384f17f-be4c-45e4-e963-5e7a2d204dc9"
      },
      "source": [
        "mean_squared_error(y_train, lr.predict(X_train))"
      ],
      "execution_count": null,
      "outputs": [
        {
          "output_type": "execute_result",
          "data": {
            "text/plain": [
              "182444.051196313"
            ]
          },
          "metadata": {},
          "execution_count": 66
        }
      ]
    },
    {
      "cell_type": "code",
      "metadata": {
        "id": "QYt8TUbaAf6X"
      },
      "source": [
        "# Разброс в значениях привел к тому, что предсказание совсем плохое ... \n",
        "# Т.е. у модели не получилось качественно обучиться т.к. разница между тратами в строках слишком огромное и данных для обучения очень мало."
      ],
      "execution_count": null,
      "outputs": []
    },
    {
      "cell_type": "code",
      "metadata": {
        "id": "br0gC-BMBIVu"
      },
      "source": [
        ""
      ],
      "execution_count": null,
      "outputs": []
    }
  ]
}